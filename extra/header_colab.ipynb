{
 "cells": [
  {
   "cell_type": "markdown",
   "id": "648f2418-b152-4179-bf1c-9535508aa5d1",
   "metadata": {},
   "source": [
    "## Install dependencies"
   ]
  },
  {
   "cell_type": "code",
   "execution_count": null,
   "id": "0231abe9-085f-4ccb-b8d4-b27191a3ae76",
   "metadata": {},
   "outputs": [],
   "source": [
    "# ***On Google Colab, it is required to install the following dependencies in order for the notebook to work***\n",
    "\n",
    "!pip install numpy scipy matplotlib pandas seaborn jupyter\n",
    "!pip install git+https://github.com/neurospin/pymultifracs"
   ]
  }
 ],
 "metadata": {
  "kernelspec": {
   "display_name": "venv",
   "language": "python",
   "name": "venv"
  },
  "language_info": {
   "codemirror_mode": {
    "name": "ipython",
    "version": 3
   },
   "file_extension": ".py",
   "mimetype": "text/x-python",
   "name": "python",
   "nbconvert_exporter": "python",
   "pygments_lexer": "ipython3",
   "version": "3.10.12"
  }
 },
 "nbformat": 4,
 "nbformat_minor": 5
}
