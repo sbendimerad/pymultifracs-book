{
 "cells": [
  {
   "cell_type": "markdown",
   "id": "648f2418-b152-4179-bf1c-9535508aa5d1",
   "metadata": {},
   "source": [
    "## Install dependencies\n",
    "\n",
    "***On Google Colab, it is required to install the following dependencies in order for the notebook to work***"
   ]
  },
  {
   "cell_type": "code",
   "execution_count": null,
   "id": "0231abe9-085f-4ccb-b8d4-b27191a3ae76",
   "metadata": {},
   "outputs": [],
   "source": [
    "!pip install numpy scipy matplotlib pandas seaborn jupyter\n",
    "!pip install git+https://github.com/neurospin/pymultifracs"
   ]
  },
  {
   "cell_type": "code",
   "execution_count": null,
   "id": "5415d372-7a29-4544-95f5-4bb3b1fb75ea",
   "metadata": {},
   "outputs": [],
   "source": [
    "# We will also dowload extra data if needed:"
   ]
  }
 ],
 "metadata": {
  "kernelspec": {
   "display_name": "venv",
   "language": "python",
   "name": "venv"
  },
  "language_info": {
   "codemirror_mode": {
    "name": "ipython",
    "version": 3
   },
   "file_extension": ".py",
   "mimetype": "text/x-python",
   "name": "python",
   "nbconvert_exporter": "python",
   "pygments_lexer": "ipython3",
   "version": "3.10.12"
  }
 },
 "nbformat": 4,
 "nbformat_minor": 5
}
